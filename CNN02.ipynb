{
  "nbformat": 4,
  "nbformat_minor": 5,
  "metadata": {
    "kernelspec": {
      "display_name": "conda_pytorch_p27",
      "language": "python",
      "name": "conda_pytorch_p27"
    },
    "language_info": {
      "codemirror_mode": {
        "name": "ipython",
        "version": 2
      },
      "file_extension": ".py",
      "mimetype": "text/x-python",
      "name": "python",
      "nbconvert_exporter": "python",
      "pygments_lexer": "ipython2",
      "version": "2.7.16"
    },
    "colab": {
      "name": "CNN02.ipynb",
      "provenance": [],
      "include_colab_link": true
    }
  },
  "cells": [
    {
      "cell_type": "markdown",
      "metadata": {
        "id": "view-in-github",
        "colab_type": "text"
      },
      "source": [
        "<a href=\"https://colab.research.google.com/github/MiheeChoi/git__test/blob/main/CNN02.ipynb\" target=\"_parent\"><img src=\"https://colab.research.google.com/assets/colab-badge.svg\" alt=\"Open In Colab\"/></a>"
      ]
    },
    {
      "cell_type": "markdown",
      "metadata": {
        "id": "59d94607"
      },
      "source": [
        "# Load packages"
      ],
      "id": "59d94607"
    },
    {
      "cell_type": "code",
      "metadata": {
        "id": "6c207d39"
      },
      "source": [
        "import torch\n",
        "import torch.nn as nn\n",
        "import torchvision.datasets as dset\n",
        "import torchvision.transforms as transforms\n",
        "from torch.utils.data import DataLoader\n",
        "from torch.autograd import Variable\n",
        "import matplotlib.pyplot as plt\n",
        "%matplotlib inline"
      ],
      "id": "6c207d39",
      "execution_count": null,
      "outputs": []
    },
    {
      "cell_type": "markdown",
      "metadata": {
        "id": "50de2857"
      },
      "source": [
        "# MNIST train, test dataset 가져오기"
      ],
      "id": "50de2857"
    },
    {
      "cell_type": "code",
      "metadata": {
        "id": "c8cfab79"
      },
      "source": [
        "# \"\" 현재 폴더에 MNIST 있음\n",
        "mnist_train=dset.MNIST(\"\", train=True, transform=transforms.ToTensor(), target_transform=None, download=True) #train 용\n",
        "mnist_test=dset.MNIST(\"\", train=False, transform=transforms.ToTensor(), target_transform=None, download=True) #test 용"
      ],
      "id": "c8cfab79",
      "execution_count": null,
      "outputs": []
    },
    {
      "cell_type": "code",
      "metadata": {
        "id": "2b6d8a98",
        "outputId": "f7f57055-ed81-49f2-cb9a-978ff816f35c"
      },
      "source": [
        "print \"mnist_train 길이:\", len(mnist_train)\n",
        "print \"mnist_test 길이:\", len(mnist_test)\n",
        "\n",
        "#데이터 하나 형태\n",
        "image, label = mnist_train.__getitem__(0) #0번째 데이터\n",
        "print \"image data 형태:\", image.size()\n",
        "print \"label: \", label\n",
        "\n",
        "#그리기\n",
        "img = image.numpy() #image 타입을 numpy 로 변환 (1.28.28)\n",
        "plt.title(\"label: %d\" %label)\n",
        "plt.imshow(img[0], cmap='gray')\n",
        "plt.show()"
      ],
      "id": "2b6d8a98",
      "execution_count": null,
      "outputs": [
        {
          "output_type": "stream",
          "text": [
            "mnist_train 길이: 60000\n",
            "mnist_test 길이: 10000\n",
            "image data 형태: torch.Size([1, 28, 28])\n",
            "label:  5\n"
          ],
          "name": "stdout"
        },
        {
          "output_type": "display_data",
          "data": {
            "image/png": "[encoded data removed]",
            "text/plain": [
              "<Figure size 432x288 with 1 Axes>"
            ]
          },
          "metadata": {
            "tags": [],
            "needs_background": "light"
          }
        }
      ]
    },
    {
      "cell_type": "markdown",
      "metadata": {
        "id": "4ed14564"
      },
      "source": [
        "# MNIST data 띄워보기"
      ],
      "id": "4ed14564"
    },
    {
      "cell_type": "code",
      "metadata": {
        "id": "50069d5b",
        "outputId": "68d2b978-12a2-4eea-914a-1b367bfd79cc"
      },
      "source": [
        "print(mnist_train[0][1]) #label\n",
        "print(mnist_train[0][0].size()) #image\n",
        "\n",
        "for i in range(3):\n",
        "    img=mnist_train[i][0].numpy()\n",
        "    print(mnist_train[i][1])\n",
        "    plt.imshow(img[0],cmap='gray')\n",
        "    plt.show()"
      ],
      "id": "50069d5b",
      "execution_count": null,
      "outputs": [
        {
          "output_type": "stream",
          "text": [
            "5\n",
            "torch.Size([1, 28, 28])\n",
            "5\n"
          ],
          "name": "stdout"
        },
        {
          "output_type": "display_data",
          "data": {
            "image/png": "[encoded data removed]",
            "text/plain": [
              "<Figure size 432x288 with 1 Axes>"
            ]
          },
          "metadata": {
            "tags": [],
            "needs_background": "light"
          }
        },
        {
          "output_type": "stream",
          "text": [
            "0\n"
          ],
          "name": "stdout"
        },
        {
          "output_type": "display_data",
          "data": {
            "image/png": "[encoded data removed]",
            "text/plain": [
              "<Figure size 432x288 with 1 Axes>"
            ]
          },
          "metadata": {
            "tags": [],
            "needs_background": "light"
          }
        },
        {
          "output_type": "stream",
          "text": [
            "4\n"
          ],
          "name": "stdout"
        },
        {
          "output_type": "display_data",
          "data": {
            "image/png": "[encoded data removed]",
            "text/plain": [
              "<Figure size 432x288 with 1 Axes>"
            ]
          },
          "metadata": {
            "tags": [],
            "needs_background": "light"
          }
        }
      ]
    },
    {
      "cell_type": "markdown",
      "metadata": {
        "id": "ebf7699d"
      },
      "source": [
        "# convolution 하나 씌워보기"
      ],
      "id": "ebf7699d"
    },
    {
      "cell_type": "code",
      "metadata": {
        "id": "11d4f089",
        "outputId": "87292ed5-a8f9-4189-b436-0e30822def98"
      },
      "source": [
        "#mnist 의 첫번 째 이미지, 라벨 가져오기\n",
        "image, label = mnist_train[0]\n",
        "#view: tensor의 사이즈 조절. -1:해당 차원 차원 확장시켜라\n",
        "#[1,28,28] -> [1,1,28,28]\n",
        "image=image.view(-1, image.size()[0], image.size()[1], image.size()[2])\n",
        "print(image.size())\n",
        "\n",
        "print label\n",
        "\n",
        "#convolutional filter 정의\n",
        "conv_layer=nn.Conv2d(in_channels=1, out_channels=3, kernel_size=3, padding=1)\n",
        "output=conv_layer(Variable(image))\n",
        "print(output.size())\n",
        "\n",
        "for i in range(3):\n",
        "    plt.imshow(output[0,i,:,:].data.numpy(),cmap='gray')\n",
        "    plt.show()"
      ],
      "id": "11d4f089",
      "execution_count": null,
      "outputs": [
        {
          "output_type": "stream",
          "text": [
            "torch.Size([1, 1, 28, 28])\n",
            "5\n",
            "torch.Size([1, 3, 28, 28])\n"
          ],
          "name": "stdout"
        },
        {
          "output_type": "display_data",
          "data": {
            "image/png": "[encoded data removed]",
            "text/plain": [
              "<Figure size 432x288 with 1 Axes>"
            ]
          },
          "metadata": {
            "tags": [],
            "needs_background": "light"
          }
        },
        {
          "output_type": "display_data",
          "data": {
            "image/png": "[encoded data removed]",
            "text/plain": [
              "<Figure size 432x288 with 1 Axes>"
            ]
          },
          "metadata": {
            "tags": [],
            "needs_background": "light"
          }
        },
        {
          "output_type": "display_data",
          "data": {
            "image/png": "[encoded data removed]",
            "text/plain": [
              "<Figure size 432x288 with 1 Axes>"
            ]
          },
          "metadata": {
            "tags": [],
            "needs_background": "light"
          }
        }
      ]
    },
    {
      "cell_type": "markdown",
      "metadata": {
        "id": "8d453295"
      },
      "source": [
        "# # CNN 만들기"
      ],
      "id": "8d453295"
    },
    {
      "cell_type": "markdown",
      "metadata": {
        "id": "2a6f3ae2"
      },
      "source": [
        "# train, test data 가져오기"
      ],
      "id": "2a6f3ae2"
    },
    {
      "cell_type": "code",
      "metadata": {
        "id": "78a9f494"
      },
      "source": [
        "import numpy as np\n",
        "import torch.optim as optim\n",
        "\n",
        "batch_size = 16\n",
        "learning_rate=0.0002\n",
        "num_epoch = 10 #1000"
      ],
      "id": "78a9f494",
      "execution_count": null,
      "outputs": []
    },
    {
      "cell_type": "code",
      "metadata": {
        "id": "3b6b3b34"
      },
      "source": [
        "#후에 학습시킬 때 batch_size 단위로 학습시켜나감\n",
        "train_loader = torch.utils.data.DataLoader(list(mnist_train)[:batch_size*100], batch_size=batch_size, shuffle=True, \n",
        "                                           num_workers=2, drop_last=True) # batch_size 만큼 나눌 때 나머지는 버려라\n",
        "test_loader = torch.utils.data.DataLoader((mnist_test), batch_size=batch_size, shuffle=False, \n",
        "                                           num_workers=2, drop_last=True) "
      ],
      "id": "3b6b3b34",
      "execution_count": null,
      "outputs": []
    },
    {
      "cell_type": "markdown",
      "metadata": {
        "id": "209c4c19"
      },
      "source": [
        "# CNN 클래스 만들기(모델 만들기)"
      ],
      "id": "209c4c19"
    },
    {
      "cell_type": "code",
      "metadata": {
        "id": "4b2155fb"
      },
      "source": [
        "class CNN(nn.Module):\n",
        "    def __init__(self):\n",
        "        super(CNN,self).__init__()\n",
        "        self.layer=nn.Sequential(           \n",
        "            nn.Conv2d(1,16,5,padding=2),\n",
        "            nn.ReLU(),\n",
        "\n",
        "            nn.Conv2d(16,32,5,padding=2),\n",
        "            nn.ReLU(),\n",
        "            nn.MaxPool2d(2,2),\n",
        "\n",
        "            nn.Conv2d(32,64,5,padding=2),\n",
        "            nn.ReLU(),\n",
        "            nn.MaxPool2d(2,2)\n",
        "        )\n",
        "        self.fc_layer=nn.Sequential(\n",
        "            nn.Linear(64*7*7, 100),\n",
        "            nn.ReLU(),\n",
        "            nn.Linear(100,10)\n",
        "\n",
        "        )\n",
        "        \n",
        "    def forward(self, x):        \n",
        "        out = self.layer(x)\n",
        "        out = out.view(batch_size,-1)\n",
        "        out = self.fc_layer(out)\n",
        "        return out\n",
        "    \n",
        "model=CNN() #.cuda()"
      ],
      "id": "4b2155fb",
      "execution_count": null,
      "outputs": []
    },
    {
      "cell_type": "code",
      "metadata": {
        "id": "01cec596",
        "outputId": "b5bc0ce1-05ec-44a8-9a32-41964b0e9971"
      },
      "source": [
        "# 파라미터 체크하기\n",
        "for parameter in model.parameters():\n",
        "    #print(parameter)\n",
        "    print(parameter.shape)"
      ],
      "id": "01cec596",
      "execution_count": null,
      "outputs": [
        {
          "output_type": "stream",
          "text": [
            "torch.Size([16, 1, 5, 5])\n",
            "torch.Size([16])\n",
            "torch.Size([32, 16, 5, 5])\n",
            "torch.Size([32])\n",
            "torch.Size([64, 32, 5, 5])\n",
            "torch.Size([64])\n",
            "torch.Size([100, 3136])\n",
            "torch.Size([100])\n",
            "torch.Size([10, 100])\n",
            "torch.Size([10])\n"
          ],
          "name": "stdout"
        }
      ]
    },
    {
      "cell_type": "code",
      "metadata": {
        "id": "ce7e49ae"
      },
      "source": [
        "# loss function, optimizer 선언\n",
        "loss_func = nn.CrossEntropyLoss()\n",
        "optimizer = torch.optim.Adam(model.parameters(), lr=learning_rate)"
      ],
      "id": "ce7e49ae",
      "execution_count": null,
      "outputs": []
    },
    {
      "cell_type": "markdown",
      "metadata": {
        "id": "0f5ece6c"
      },
      "source": [
        "# optimization"
      ],
      "id": "0f5ece6c"
    },
    {
      "cell_type": "code",
      "metadata": {
        "id": "13e9a90b",
        "outputId": "1be3ac9c-5eb3-4ccc-8d22-63c186f39b5c"
      },
      "source": [
        "for i in range(num_epoch):\n",
        "    for j, [image, label] in enumerate(train_loader):\n",
        "        x=Variable(image) #.cuda()\n",
        "        y_=Variable(label) #.cuda()\n",
        "\n",
        "        optimizer.zero_grad()\n",
        "        output=model.forward(x)\n",
        "        loss=loss_func(output,y_)\n",
        "        loss.backward()\n",
        "        optimizer.step()\n",
        "\n",
        "\n",
        "        if j%50==0:\n",
        "            print(loss, j, i)"
      ],
      "id": "13e9a90b",
      "execution_count": null,
      "outputs": [
        {
          "output_type": "stream",
          "text": [
            "(tensor(2.3121, grad_fn=<NllLossBackward>), 0, 0)\n",
            "(tensor(1.5459, grad_fn=<NllLossBackward>), 50, 0)\n",
            "(tensor(0.3897, grad_fn=<NllLossBackward>), 0, 1)\n",
            "(tensor(0.8367, grad_fn=<NllLossBackward>), 50, 1)\n",
            "(tensor(0.8951, grad_fn=<NllLossBackward>), 0, 2)\n",
            "(tensor(0.2493, grad_fn=<NllLossBackward>), 50, 2)\n",
            "(tensor(0.1570, grad_fn=<NllLossBackward>), 0, 3)\n",
            "(tensor(0.0487, grad_fn=<NllLossBackward>), 50, 3)\n",
            "(tensor(0.4520, grad_fn=<NllLossBackward>), 0, 4)\n",
            "(tensor(0.0204, grad_fn=<NllLossBackward>), 50, 4)\n",
            "(tensor(0.1197, grad_fn=<NllLossBackward>), 0, 5)\n",
            "(tensor(0.0902, grad_fn=<NllLossBackward>), 50, 5)\n",
            "(tensor(0.0787, grad_fn=<NllLossBackward>), 0, 6)\n",
            "(tensor(0.0079, grad_fn=<NllLossBackward>), 50, 6)\n",
            "(tensor(0.0390, grad_fn=<NllLossBackward>), 0, 7)\n",
            "(tensor(0.1323, grad_fn=<NllLossBackward>), 50, 7)\n",
            "(tensor(0.1096, grad_fn=<NllLossBackward>), 0, 8)\n",
            "(tensor(0.2074, grad_fn=<NllLossBackward>), 50, 8)\n",
            "(tensor(0.0297, grad_fn=<NllLossBackward>), 0, 9)\n",
            "(tensor(0.0456, grad_fn=<NllLossBackward>), 50, 9)\n"
          ],
          "name": "stdout"
        }
      ]
    },
    {
      "cell_type": "code",
      "metadata": {
        "id": "80eed267"
      },
      "source": [
        "# 모델 저장시키기\n",
        "torch.save(model, 'nets/mycnn_model_%d.pkl'%(num_epoch))"
      ],
      "id": "80eed267",
      "execution_count": null,
      "outputs": []
    },
    {
      "cell_type": "code",
      "metadata": {
        "id": "8563a03f",
        "outputId": "45eefab7-a30d-498c-bbd6-8f46a0c5bd3d"
      },
      "source": [
        "try:\n",
        "    # 미리 학습시킨 네크워크의 파라미터 집합 [피클]이라 발음함.\n",
        "    model=torch.load('nets/mycnn_model_10.pkl')\n",
        "    print(\"model restored\")\n",
        "except:\n",
        "    print(\"model not restored\")"
      ],
      "id": "8563a03f",
      "execution_count": null,
      "outputs": [
        {
          "output_type": "stream",
          "text": [
            "model restored\n"
          ],
          "name": "stdout"
        }
      ]
    },
    {
      "cell_type": "code",
      "metadata": {
        "id": "0e1ffee7"
      },
      "source": [
        "def ComputeAccr(dloader, imodel):\n",
        "    correct = 0\n",
        "    total = 0\n",
        "    \n",
        "    for j, [imgs, labels] in enumerate(dloader):\n",
        "        img = Variable(imgs) #.cuda() #x\n",
        "        label = Variable(labels)\n",
        "        \n",
        "        output = imodel.forward(img)\n",
        "        _, output_index = torch.max(output, 1)\n",
        "        \n",
        "        total += label.size(0)\n",
        "        correct += (output_index == label).sum().float()\n",
        "    print(\"Accuracy of Test Data : {}\".format(100*correct/total))"
      ],
      "id": "0e1ffee7",
      "execution_count": null,
      "outputs": []
    },
    {
      "cell_type": "code",
      "metadata": {
        "id": "ca2fc94b",
        "outputId": "e9440c0e-e419-4e7f-b9a4-5e2c0f4d4453"
      },
      "source": [
        "ComputeAccr(test_loader, model)"
      ],
      "id": "ca2fc94b",
      "execution_count": null,
      "outputs": [
        {
          "output_type": "stream",
          "text": [
            "Accuracy of Test Data : 94.8700027466\n"
          ],
          "name": "stdout"
        }
      ]
    }
  ]
}